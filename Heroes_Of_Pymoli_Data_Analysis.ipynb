{
 "cells": [
  {
   "cell_type": "code",
   "execution_count": 1,
   "metadata": {},
   "outputs": [],
   "source": [
    "import pandas as pd\n",
    "import numpy as np"
   ]
  },
  {
   "cell_type": "code",
   "execution_count": 2,
   "metadata": {},
   "outputs": [],
   "source": [
    "file_to_load = \"Resources/purchase_data.csv\""
   ]
  },
  {
   "cell_type": "code",
   "execution_count": 3,
   "metadata": {},
   "outputs": [],
   "source": [
    "purchase_data = pd.read_csv(file_to_load)"
   ]
  },
  {
   "cell_type": "code",
   "execution_count": 4,
   "metadata": {},
   "outputs": [],
   "source": [
    "total_players = len(purchase_data[\"SN\"].value_counts())"
   ]
  },
  {
   "cell_type": "code",
   "execution_count": 5,
   "metadata": {},
   "outputs": [
    {
     "data": {
      "text/html": [
       "<div>\n",
       "<style scoped>\n",
       "    .dataframe tbody tr th:only-of-type {\n",
       "        vertical-align: middle;\n",
       "    }\n",
       "\n",
       "    .dataframe tbody tr th {\n",
       "        vertical-align: top;\n",
       "    }\n",
       "\n",
       "    .dataframe thead th {\n",
       "        text-align: right;\n",
       "    }\n",
       "</style>\n",
       "<table border=\"1\" class=\"dataframe\">\n",
       "  <thead>\n",
       "    <tr style=\"text-align: right;\">\n",
       "      <th></th>\n",
       "      <th>Total Players</th>\n",
       "    </tr>\n",
       "  </thead>\n",
       "  <tbody>\n",
       "    <tr>\n",
       "      <th>0</th>\n",
       "      <td>576</td>\n",
       "    </tr>\n",
       "  </tbody>\n",
       "</table>\n",
       "</div>"
      ],
      "text/plain": [
       "   Total Players\n",
       "0            576"
      ]
     },
     "execution_count": 5,
     "metadata": {},
     "output_type": "execute_result"
    }
   ],
   "source": [
    "player_count = pd.DataFrame({\"Total Players\":[total_players]})\n",
    "player_count"
   ]
  },
  {
   "cell_type": "code",
   "execution_count": 6,
   "metadata": {},
   "outputs": [],
   "source": [
    "number_of_unique_items = len((purchase_data[\"Item ID\"]).unique())\n",
    "average_price = (purchase_data[\"Price\"]).mean()\n",
    "number_of_purchases = (purchase_data[\"Purchase ID\"]).count()\n",
    "total_revenue = (purchase_data[\"Price\"]).sum()\n"
   ]
  },
  {
   "cell_type": "code",
   "execution_count": 7,
   "metadata": {},
   "outputs": [],
   "source": [
    "summary_df = pd.DataFrame({\"Number of Unique Items\":[number_of_unique_items],\n",
    "                           \"Average Price\":[average_price], \n",
    "                           \"Number of Purchases\": [number_of_purchases], \n",
    "                           \"Total Revenue\": [total_revenue]})"
   ]
  },
  {
   "cell_type": "code",
   "execution_count": 8,
   "metadata": {},
   "outputs": [
    {
     "data": {
      "text/html": [
       "<style  type=\"text/css\" >\n",
       "</style><table id=\"T_bd115758_1eb1_11ea_b64f_c4d987659bda\" ><thead>    <tr>        <th class=\"blank level0\" ></th>        <th class=\"col_heading level0 col0\" >Number of Unique Items</th>        <th class=\"col_heading level0 col1\" >Average Price</th>        <th class=\"col_heading level0 col2\" >Number of Purchases</th>        <th class=\"col_heading level0 col3\" >Total Revenue</th>    </tr></thead><tbody>\n",
       "                <tr>\n",
       "                        <th id=\"T_bd115758_1eb1_11ea_b64f_c4d987659bdalevel0_row0\" class=\"row_heading level0 row0\" >0</th>\n",
       "                        <td id=\"T_bd115758_1eb1_11ea_b64f_c4d987659bdarow0_col0\" class=\"data row0 col0\" >183</td>\n",
       "                        <td id=\"T_bd115758_1eb1_11ea_b64f_c4d987659bdarow0_col1\" class=\"data row0 col1\" >$3.05</td>\n",
       "                        <td id=\"T_bd115758_1eb1_11ea_b64f_c4d987659bdarow0_col2\" class=\"data row0 col2\" >780</td>\n",
       "                        <td id=\"T_bd115758_1eb1_11ea_b64f_c4d987659bdarow0_col3\" class=\"data row0 col3\" >$2,379.77</td>\n",
       "            </tr>\n",
       "    </tbody></table>"
      ],
      "text/plain": [
       "<pandas.io.formats.style.Styler at 0x2687b237940>"
      ]
     },
     "execution_count": 8,
     "metadata": {},
     "output_type": "execute_result"
    }
   ],
   "source": [
    "summary_df.style.format({'Average Price':\"${:,.2f}\",\n",
    "                         'Total Revenue': '${:,.2f}'})"
   ]
  },
  {
   "cell_type": "code",
   "execution_count": 9,
   "metadata": {},
   "outputs": [],
   "source": [
    "gender_stats = purchase_data.groupby(\"Gender\")"
   ]
  },
  {
   "cell_type": "code",
   "execution_count": 10,
   "metadata": {},
   "outputs": [],
   "source": [
    "total_count_gender = gender_stats.nunique()[\"SN\"]"
   ]
  },
  {
   "cell_type": "code",
   "execution_count": 11,
   "metadata": {},
   "outputs": [],
   "source": [
    "percentage_of_players = total_count_gender / total_players * 100"
   ]
  },
  {
   "cell_type": "code",
   "execution_count": 12,
   "metadata": {},
   "outputs": [],
   "source": [
    "gender_demographics = pd.DataFrame({\"Percentage of Players\": percentage_of_players, \"Total Count\": total_count_gender})"
   ]
  },
  {
   "cell_type": "code",
   "execution_count": 13,
   "metadata": {},
   "outputs": [],
   "source": [
    "gender_demographics.index.name = None"
   ]
  },
  {
   "cell_type": "code",
   "execution_count": 14,
   "metadata": {},
   "outputs": [
    {
     "data": {
      "text/html": [
       "<style  type=\"text/css\" >\n",
       "</style><table id=\"T_bebb227a_1eb1_11ea_b98c_c4d987659bda\" ><thead>    <tr>        <th class=\"blank level0\" ></th>        <th class=\"col_heading level0 col0\" >Percentage of Players</th>        <th class=\"col_heading level0 col1\" >Total Count</th>    </tr></thead><tbody>\n",
       "                <tr>\n",
       "                        <th id=\"T_bebb227a_1eb1_11ea_b98c_c4d987659bdalevel0_row0\" class=\"row_heading level0 row0\" >Male</th>\n",
       "                        <td id=\"T_bebb227a_1eb1_11ea_b98c_c4d987659bdarow0_col0\" class=\"data row0 col0\" >84.03</td>\n",
       "                        <td id=\"T_bebb227a_1eb1_11ea_b98c_c4d987659bdarow0_col1\" class=\"data row0 col1\" >484</td>\n",
       "            </tr>\n",
       "            <tr>\n",
       "                        <th id=\"T_bebb227a_1eb1_11ea_b98c_c4d987659bdalevel0_row1\" class=\"row_heading level0 row1\" >Female</th>\n",
       "                        <td id=\"T_bebb227a_1eb1_11ea_b98c_c4d987659bdarow1_col0\" class=\"data row1 col0\" >14.06</td>\n",
       "                        <td id=\"T_bebb227a_1eb1_11ea_b98c_c4d987659bdarow1_col1\" class=\"data row1 col1\" >81</td>\n",
       "            </tr>\n",
       "            <tr>\n",
       "                        <th id=\"T_bebb227a_1eb1_11ea_b98c_c4d987659bdalevel0_row2\" class=\"row_heading level0 row2\" >Other / Non-Disclosed</th>\n",
       "                        <td id=\"T_bebb227a_1eb1_11ea_b98c_c4d987659bdarow2_col0\" class=\"data row2 col0\" >1.91</td>\n",
       "                        <td id=\"T_bebb227a_1eb1_11ea_b98c_c4d987659bdarow2_col1\" class=\"data row2 col1\" >11</td>\n",
       "            </tr>\n",
       "    </tbody></table>"
      ],
      "text/plain": [
       "<pandas.io.formats.style.Styler at 0x2687ba5eeb8>"
      ]
     },
     "execution_count": 14,
     "metadata": {},
     "output_type": "execute_result"
    }
   ],
   "source": [
    "gender_demographics.sort_values([\"Total Count\"], ascending = False).style.format({\"Percentage of Players\":\"{:.2f}\"})"
   ]
  },
  {
   "cell_type": "code",
   "execution_count": 15,
   "metadata": {},
   "outputs": [],
   "source": [
    "purchase_count = gender_stats[\"Purchase ID\"].count()\n"
   ]
  },
  {
   "cell_type": "code",
   "execution_count": 16,
   "metadata": {},
   "outputs": [],
   "source": [
    "avg_purchase_price = gender_stats[\"Price\"].mean()\n"
   ]
  },
  {
   "cell_type": "code",
   "execution_count": 17,
   "metadata": {},
   "outputs": [],
   "source": [
    "avg_purchase_total = gender_stats[\"Price\"].sum()\n"
   ]
  },
  {
   "cell_type": "code",
   "execution_count": 18,
   "metadata": {},
   "outputs": [],
   "source": [
    "avg_purchase_per_person = avg_purchase_total/total_count_gender"
   ]
  },
  {
   "cell_type": "code",
   "execution_count": 19,
   "metadata": {},
   "outputs": [],
   "source": [
    "gender_demographics = pd.DataFrame({\"Purchase Count\": purchase_count, \n",
    "                                    \"Average Purchase Price\": avg_purchase_price,\n",
    "                                    \"Average Purchase Value\":avg_purchase_total,\n",
    "                                    \"Avg Purchase Total per Person\": avg_purchase_per_person})"
   ]
  },
  {
   "cell_type": "code",
   "execution_count": 20,
   "metadata": {},
   "outputs": [],
   "source": [
    "gender_demographics.index.name = \"Gender\""
   ]
  },
  {
   "cell_type": "code",
   "execution_count": 21,
   "metadata": {},
   "outputs": [
    {
     "data": {
      "text/html": [
       "<style  type=\"text/css\" >\n",
       "</style><table id=\"T_c18386a4_1eb1_11ea_b949_c4d987659bda\" ><thead>    <tr>        <th class=\"blank level0\" ></th>        <th class=\"col_heading level0 col0\" >Purchase Count</th>        <th class=\"col_heading level0 col1\" >Average Purchase Price</th>        <th class=\"col_heading level0 col2\" >Average Purchase Value</th>        <th class=\"col_heading level0 col3\" >Avg Purchase Total per Person</th>    </tr>    <tr>        <th class=\"index_name level0\" >Gender</th>        <th class=\"blank\" ></th>        <th class=\"blank\" ></th>        <th class=\"blank\" ></th>        <th class=\"blank\" ></th>    </tr></thead><tbody>\n",
       "                <tr>\n",
       "                        <th id=\"T_c18386a4_1eb1_11ea_b949_c4d987659bdalevel0_row0\" class=\"row_heading level0 row0\" >Female</th>\n",
       "                        <td id=\"T_c18386a4_1eb1_11ea_b949_c4d987659bdarow0_col0\" class=\"data row0 col0\" >113</td>\n",
       "                        <td id=\"T_c18386a4_1eb1_11ea_b949_c4d987659bdarow0_col1\" class=\"data row0 col1\" >$3.20</td>\n",
       "                        <td id=\"T_c18386a4_1eb1_11ea_b949_c4d987659bdarow0_col2\" class=\"data row0 col2\" >$361.94</td>\n",
       "                        <td id=\"T_c18386a4_1eb1_11ea_b949_c4d987659bdarow0_col3\" class=\"data row0 col3\" >$4.47</td>\n",
       "            </tr>\n",
       "            <tr>\n",
       "                        <th id=\"T_c18386a4_1eb1_11ea_b949_c4d987659bdalevel0_row1\" class=\"row_heading level0 row1\" >Male</th>\n",
       "                        <td id=\"T_c18386a4_1eb1_11ea_b949_c4d987659bdarow1_col0\" class=\"data row1 col0\" >652</td>\n",
       "                        <td id=\"T_c18386a4_1eb1_11ea_b949_c4d987659bdarow1_col1\" class=\"data row1 col1\" >$3.02</td>\n",
       "                        <td id=\"T_c18386a4_1eb1_11ea_b949_c4d987659bdarow1_col2\" class=\"data row1 col2\" >$1,967.64</td>\n",
       "                        <td id=\"T_c18386a4_1eb1_11ea_b949_c4d987659bdarow1_col3\" class=\"data row1 col3\" >$4.07</td>\n",
       "            </tr>\n",
       "            <tr>\n",
       "                        <th id=\"T_c18386a4_1eb1_11ea_b949_c4d987659bdalevel0_row2\" class=\"row_heading level0 row2\" >Other / Non-Disclosed</th>\n",
       "                        <td id=\"T_c18386a4_1eb1_11ea_b949_c4d987659bdarow2_col0\" class=\"data row2 col0\" >15</td>\n",
       "                        <td id=\"T_c18386a4_1eb1_11ea_b949_c4d987659bdarow2_col1\" class=\"data row2 col1\" >$3.35</td>\n",
       "                        <td id=\"T_c18386a4_1eb1_11ea_b949_c4d987659bdarow2_col2\" class=\"data row2 col2\" >$50.19</td>\n",
       "                        <td id=\"T_c18386a4_1eb1_11ea_b949_c4d987659bdarow2_col3\" class=\"data row2 col3\" >$4.56</td>\n",
       "            </tr>\n",
       "    </tbody></table>"
      ],
      "text/plain": [
       "<pandas.io.formats.style.Styler at 0x2687ba828d0>"
      ]
     },
     "execution_count": 21,
     "metadata": {},
     "output_type": "execute_result"
    }
   ],
   "source": [
    "gender_demographics.style.format({\"Average Purchase Value\":\"${:,.2f}\",\n",
    "                                  \"Average Purchase Price\":\"${:,.2f}\",\n",
    "                                  \"Avg Purchase Total per Person\":\"${:,.2f}\"})"
   ]
  },
  {
   "cell_type": "code",
   "execution_count": 22,
   "metadata": {},
   "outputs": [],
   "source": [
    "age_bins = [0, 9.90, 14.90, 19.90, 24.90, 29.90, 34.90, 39.90, 99999]\n",
    "group_names = [\"<10\", \"10-14\", \"15-19\", \"20-24\", \"25-29\", \"30-34\", \"35-39\", \"40+\"]"
   ]
  },
  {
   "cell_type": "code",
   "execution_count": 23,
   "metadata": {},
   "outputs": [
    {
     "data": {
      "text/html": [
       "<div>\n",
       "<style scoped>\n",
       "    .dataframe tbody tr th:only-of-type {\n",
       "        vertical-align: middle;\n",
       "    }\n",
       "\n",
       "    .dataframe tbody tr th {\n",
       "        vertical-align: top;\n",
       "    }\n",
       "\n",
       "    .dataframe thead th {\n",
       "        text-align: right;\n",
       "    }\n",
       "</style>\n",
       "<table border=\"1\" class=\"dataframe\">\n",
       "  <thead>\n",
       "    <tr style=\"text-align: right;\">\n",
       "      <th></th>\n",
       "      <th>Purchase ID</th>\n",
       "      <th>SN</th>\n",
       "      <th>Age</th>\n",
       "      <th>Gender</th>\n",
       "      <th>Item ID</th>\n",
       "      <th>Item Name</th>\n",
       "      <th>Price</th>\n",
       "      <th>Age Group</th>\n",
       "    </tr>\n",
       "  </thead>\n",
       "  <tbody>\n",
       "    <tr>\n",
       "      <th>0</th>\n",
       "      <td>0</td>\n",
       "      <td>Lisim78</td>\n",
       "      <td>20</td>\n",
       "      <td>Male</td>\n",
       "      <td>108</td>\n",
       "      <td>Extraction, Quickblade Of Trembling Hands</td>\n",
       "      <td>3.53</td>\n",
       "      <td>20-24</td>\n",
       "    </tr>\n",
       "    <tr>\n",
       "      <th>1</th>\n",
       "      <td>1</td>\n",
       "      <td>Lisovynya38</td>\n",
       "      <td>40</td>\n",
       "      <td>Male</td>\n",
       "      <td>143</td>\n",
       "      <td>Frenzied Scimitar</td>\n",
       "      <td>1.56</td>\n",
       "      <td>40+</td>\n",
       "    </tr>\n",
       "    <tr>\n",
       "      <th>2</th>\n",
       "      <td>2</td>\n",
       "      <td>Ithergue48</td>\n",
       "      <td>24</td>\n",
       "      <td>Male</td>\n",
       "      <td>92</td>\n",
       "      <td>Final Critic</td>\n",
       "      <td>4.88</td>\n",
       "      <td>20-24</td>\n",
       "    </tr>\n",
       "    <tr>\n",
       "      <th>3</th>\n",
       "      <td>3</td>\n",
       "      <td>Chamassasya86</td>\n",
       "      <td>24</td>\n",
       "      <td>Male</td>\n",
       "      <td>100</td>\n",
       "      <td>Blindscythe</td>\n",
       "      <td>3.27</td>\n",
       "      <td>20-24</td>\n",
       "    </tr>\n",
       "    <tr>\n",
       "      <th>4</th>\n",
       "      <td>4</td>\n",
       "      <td>Iskosia90</td>\n",
       "      <td>23</td>\n",
       "      <td>Male</td>\n",
       "      <td>131</td>\n",
       "      <td>Fury</td>\n",
       "      <td>1.44</td>\n",
       "      <td>20-24</td>\n",
       "    </tr>\n",
       "    <tr>\n",
       "      <th>...</th>\n",
       "      <td>...</td>\n",
       "      <td>...</td>\n",
       "      <td>...</td>\n",
       "      <td>...</td>\n",
       "      <td>...</td>\n",
       "      <td>...</td>\n",
       "      <td>...</td>\n",
       "      <td>...</td>\n",
       "    </tr>\n",
       "    <tr>\n",
       "      <th>775</th>\n",
       "      <td>775</td>\n",
       "      <td>Aethedru70</td>\n",
       "      <td>21</td>\n",
       "      <td>Female</td>\n",
       "      <td>60</td>\n",
       "      <td>Wolf</td>\n",
       "      <td>3.54</td>\n",
       "      <td>20-24</td>\n",
       "    </tr>\n",
       "    <tr>\n",
       "      <th>776</th>\n",
       "      <td>776</td>\n",
       "      <td>Iral74</td>\n",
       "      <td>21</td>\n",
       "      <td>Male</td>\n",
       "      <td>164</td>\n",
       "      <td>Exiled Doomblade</td>\n",
       "      <td>1.63</td>\n",
       "      <td>20-24</td>\n",
       "    </tr>\n",
       "    <tr>\n",
       "      <th>777</th>\n",
       "      <td>777</td>\n",
       "      <td>Yathecal72</td>\n",
       "      <td>20</td>\n",
       "      <td>Male</td>\n",
       "      <td>67</td>\n",
       "      <td>Celeste, Incarnation of the Corrupted</td>\n",
       "      <td>3.46</td>\n",
       "      <td>20-24</td>\n",
       "    </tr>\n",
       "    <tr>\n",
       "      <th>778</th>\n",
       "      <td>778</td>\n",
       "      <td>Sisur91</td>\n",
       "      <td>7</td>\n",
       "      <td>Male</td>\n",
       "      <td>101</td>\n",
       "      <td>Final Critic</td>\n",
       "      <td>4.19</td>\n",
       "      <td>&lt;10</td>\n",
       "    </tr>\n",
       "    <tr>\n",
       "      <th>779</th>\n",
       "      <td>779</td>\n",
       "      <td>Ennrian78</td>\n",
       "      <td>24</td>\n",
       "      <td>Male</td>\n",
       "      <td>50</td>\n",
       "      <td>Dawn</td>\n",
       "      <td>4.60</td>\n",
       "      <td>20-24</td>\n",
       "    </tr>\n",
       "  </tbody>\n",
       "</table>\n",
       "<p>780 rows × 8 columns</p>\n",
       "</div>"
      ],
      "text/plain": [
       "     Purchase ID             SN  Age  Gender  Item ID  \\\n",
       "0              0        Lisim78   20    Male      108   \n",
       "1              1    Lisovynya38   40    Male      143   \n",
       "2              2     Ithergue48   24    Male       92   \n",
       "3              3  Chamassasya86   24    Male      100   \n",
       "4              4      Iskosia90   23    Male      131   \n",
       "..           ...            ...  ...     ...      ...   \n",
       "775          775     Aethedru70   21  Female       60   \n",
       "776          776         Iral74   21    Male      164   \n",
       "777          777     Yathecal72   20    Male       67   \n",
       "778          778        Sisur91    7    Male      101   \n",
       "779          779      Ennrian78   24    Male       50   \n",
       "\n",
       "                                     Item Name  Price Age Group  \n",
       "0    Extraction, Quickblade Of Trembling Hands   3.53     20-24  \n",
       "1                            Frenzied Scimitar   1.56       40+  \n",
       "2                                 Final Critic   4.88     20-24  \n",
       "3                                  Blindscythe   3.27     20-24  \n",
       "4                                         Fury   1.44     20-24  \n",
       "..                                         ...    ...       ...  \n",
       "775                                       Wolf   3.54     20-24  \n",
       "776                           Exiled Doomblade   1.63     20-24  \n",
       "777      Celeste, Incarnation of the Corrupted   3.46     20-24  \n",
       "778                               Final Critic   4.19       <10  \n",
       "779                                       Dawn   4.60     20-24  \n",
       "\n",
       "[780 rows x 8 columns]"
      ]
     },
     "execution_count": 23,
     "metadata": {},
     "output_type": "execute_result"
    }
   ],
   "source": [
    "purchase_data[\"Age Group\"] = pd.cut(purchase_data[\"Age\"],age_bins, labels=group_names)\n",
    "purchase_data\n"
   ]
  },
  {
   "cell_type": "code",
   "execution_count": 24,
   "metadata": {},
   "outputs": [],
   "source": [
    "age_grouped = purchase_data.groupby(\"Age Group\")"
   ]
  },
  {
   "cell_type": "code",
   "execution_count": 25,
   "metadata": {},
   "outputs": [],
   "source": [
    "total_count_age = age_grouped[\"SN\"].nunique()"
   ]
  },
  {
   "cell_type": "code",
   "execution_count": 26,
   "metadata": {},
   "outputs": [],
   "source": [
    "percentage_by_age = (total_count_age/total_players) * 100\n"
   ]
  },
  {
   "cell_type": "code",
   "execution_count": 27,
   "metadata": {},
   "outputs": [],
   "source": [
    "age_demographics = pd.DataFrame({\"Percentage of Players\": percentage_by_age, \"Total Count\": total_count_age})"
   ]
  },
  {
   "cell_type": "code",
   "execution_count": 28,
   "metadata": {},
   "outputs": [],
   "source": [
    "age_demographics.index.name = None"
   ]
  },
  {
   "cell_type": "code",
   "execution_count": 29,
   "metadata": {},
   "outputs": [
    {
     "data": {
      "text/html": [
       "<style  type=\"text/css\" >\n",
       "</style><table id=\"T_c48a41e4_1eb1_11ea_8140_c4d987659bda\" ><thead>    <tr>        <th class=\"blank level0\" ></th>        <th class=\"col_heading level0 col0\" >Percentage of Players</th>        <th class=\"col_heading level0 col1\" >Total Count</th>    </tr></thead><tbody>\n",
       "                <tr>\n",
       "                        <th id=\"T_c48a41e4_1eb1_11ea_8140_c4d987659bdalevel0_row0\" class=\"row_heading level0 row0\" ><10</th>\n",
       "                        <td id=\"T_c48a41e4_1eb1_11ea_8140_c4d987659bdarow0_col0\" class=\"data row0 col0\" >2.95</td>\n",
       "                        <td id=\"T_c48a41e4_1eb1_11ea_8140_c4d987659bdarow0_col1\" class=\"data row0 col1\" >17</td>\n",
       "            </tr>\n",
       "            <tr>\n",
       "                        <th id=\"T_c48a41e4_1eb1_11ea_8140_c4d987659bdalevel0_row1\" class=\"row_heading level0 row1\" >10-14</th>\n",
       "                        <td id=\"T_c48a41e4_1eb1_11ea_8140_c4d987659bdarow1_col0\" class=\"data row1 col0\" >3.82</td>\n",
       "                        <td id=\"T_c48a41e4_1eb1_11ea_8140_c4d987659bdarow1_col1\" class=\"data row1 col1\" >22</td>\n",
       "            </tr>\n",
       "            <tr>\n",
       "                        <th id=\"T_c48a41e4_1eb1_11ea_8140_c4d987659bdalevel0_row2\" class=\"row_heading level0 row2\" >15-19</th>\n",
       "                        <td id=\"T_c48a41e4_1eb1_11ea_8140_c4d987659bdarow2_col0\" class=\"data row2 col0\" >18.58</td>\n",
       "                        <td id=\"T_c48a41e4_1eb1_11ea_8140_c4d987659bdarow2_col1\" class=\"data row2 col1\" >107</td>\n",
       "            </tr>\n",
       "            <tr>\n",
       "                        <th id=\"T_c48a41e4_1eb1_11ea_8140_c4d987659bdalevel0_row3\" class=\"row_heading level0 row3\" >20-24</th>\n",
       "                        <td id=\"T_c48a41e4_1eb1_11ea_8140_c4d987659bdarow3_col0\" class=\"data row3 col0\" >44.79</td>\n",
       "                        <td id=\"T_c48a41e4_1eb1_11ea_8140_c4d987659bdarow3_col1\" class=\"data row3 col1\" >258</td>\n",
       "            </tr>\n",
       "            <tr>\n",
       "                        <th id=\"T_c48a41e4_1eb1_11ea_8140_c4d987659bdalevel0_row4\" class=\"row_heading level0 row4\" >25-29</th>\n",
       "                        <td id=\"T_c48a41e4_1eb1_11ea_8140_c4d987659bdarow4_col0\" class=\"data row4 col0\" >13.37</td>\n",
       "                        <td id=\"T_c48a41e4_1eb1_11ea_8140_c4d987659bdarow4_col1\" class=\"data row4 col1\" >77</td>\n",
       "            </tr>\n",
       "            <tr>\n",
       "                        <th id=\"T_c48a41e4_1eb1_11ea_8140_c4d987659bdalevel0_row5\" class=\"row_heading level0 row5\" >30-34</th>\n",
       "                        <td id=\"T_c48a41e4_1eb1_11ea_8140_c4d987659bdarow5_col0\" class=\"data row5 col0\" >9.03</td>\n",
       "                        <td id=\"T_c48a41e4_1eb1_11ea_8140_c4d987659bdarow5_col1\" class=\"data row5 col1\" >52</td>\n",
       "            </tr>\n",
       "            <tr>\n",
       "                        <th id=\"T_c48a41e4_1eb1_11ea_8140_c4d987659bdalevel0_row6\" class=\"row_heading level0 row6\" >35-39</th>\n",
       "                        <td id=\"T_c48a41e4_1eb1_11ea_8140_c4d987659bdarow6_col0\" class=\"data row6 col0\" >5.38</td>\n",
       "                        <td id=\"T_c48a41e4_1eb1_11ea_8140_c4d987659bdarow6_col1\" class=\"data row6 col1\" >31</td>\n",
       "            </tr>\n",
       "            <tr>\n",
       "                        <th id=\"T_c48a41e4_1eb1_11ea_8140_c4d987659bdalevel0_row7\" class=\"row_heading level0 row7\" >40+</th>\n",
       "                        <td id=\"T_c48a41e4_1eb1_11ea_8140_c4d987659bdarow7_col0\" class=\"data row7 col0\" >2.08</td>\n",
       "                        <td id=\"T_c48a41e4_1eb1_11ea_8140_c4d987659bdarow7_col1\" class=\"data row7 col1\" >12</td>\n",
       "            </tr>\n",
       "    </tbody></table>"
      ],
      "text/plain": [
       "<pandas.io.formats.style.Styler at 0x2687bab7550>"
      ]
     },
     "execution_count": 29,
     "metadata": {},
     "output_type": "execute_result"
    }
   ],
   "source": [
    "age_demographics.style.format({\"Percentage of Players\":\"{:,.2f}\"})"
   ]
  },
  {
   "cell_type": "code",
   "execution_count": 30,
   "metadata": {},
   "outputs": [],
   "source": [
    "purchase_count_age = age_grouped[\"Purchase ID\"].count()"
   ]
  },
  {
   "cell_type": "code",
   "execution_count": 31,
   "metadata": {},
   "outputs": [],
   "source": [
    "avg_purchase_price_age = age_grouped[\"Price\"].mean()"
   ]
  },
  {
   "cell_type": "code",
   "execution_count": 32,
   "metadata": {},
   "outputs": [],
   "source": [
    "total_purchase_value = age_grouped[\"Price\"].sum()\n"
   ]
  },
  {
   "cell_type": "code",
   "execution_count": 33,
   "metadata": {},
   "outputs": [],
   "source": [
    "avg_purchase_per_person_age = total_purchase_value/total_count_age\n"
   ]
  },
  {
   "cell_type": "code",
   "execution_count": 34,
   "metadata": {},
   "outputs": [],
   "source": [
    "ge_demographics = pd.DataFrame({\"Purchase Count\": purchase_count_age,\n",
    "                                 \"Average Purchase Price\": avg_purchase_price_age,\n",
    "                                 \"Total Purchase Value\":total_purchase_value,\n",
    "                                 \"Average Purchase Total per Person\": avg_purchase_per_person_age})\n"
   ]
  },
  {
   "cell_type": "code",
   "execution_count": 35,
   "metadata": {},
   "outputs": [],
   "source": [
    "gender_demographics.index.name = \"Gender\""
   ]
  },
  {
   "cell_type": "code",
   "execution_count": 36,
   "metadata": {},
   "outputs": [
    {
     "data": {
      "text/html": [
       "<style  type=\"text/css\" >\n",
       "</style><table id=\"T_c6eadf2e_1eb1_11ea_b59d_c4d987659bda\" ><thead>    <tr>        <th class=\"blank level0\" ></th>        <th class=\"col_heading level0 col0\" >Purchase Count</th>        <th class=\"col_heading level0 col1\" >Average Purchase Price</th>        <th class=\"col_heading level0 col2\" >Average Purchase Value</th>        <th class=\"col_heading level0 col3\" >Avg Purchase Total per Person</th>    </tr>    <tr>        <th class=\"index_name level0\" >Gender</th>        <th class=\"blank\" ></th>        <th class=\"blank\" ></th>        <th class=\"blank\" ></th>        <th class=\"blank\" ></th>    </tr></thead><tbody>\n",
       "                <tr>\n",
       "                        <th id=\"T_c6eadf2e_1eb1_11ea_b59d_c4d987659bdalevel0_row0\" class=\"row_heading level0 row0\" >Female</th>\n",
       "                        <td id=\"T_c6eadf2e_1eb1_11ea_b59d_c4d987659bdarow0_col0\" class=\"data row0 col0\" >113</td>\n",
       "                        <td id=\"T_c6eadf2e_1eb1_11ea_b59d_c4d987659bdarow0_col1\" class=\"data row0 col1\" >$3.20</td>\n",
       "                        <td id=\"T_c6eadf2e_1eb1_11ea_b59d_c4d987659bdarow0_col2\" class=\"data row0 col2\" >$361.94</td>\n",
       "                        <td id=\"T_c6eadf2e_1eb1_11ea_b59d_c4d987659bdarow0_col3\" class=\"data row0 col3\" >$4.47</td>\n",
       "            </tr>\n",
       "            <tr>\n",
       "                        <th id=\"T_c6eadf2e_1eb1_11ea_b59d_c4d987659bdalevel0_row1\" class=\"row_heading level0 row1\" >Male</th>\n",
       "                        <td id=\"T_c6eadf2e_1eb1_11ea_b59d_c4d987659bdarow1_col0\" class=\"data row1 col0\" >652</td>\n",
       "                        <td id=\"T_c6eadf2e_1eb1_11ea_b59d_c4d987659bdarow1_col1\" class=\"data row1 col1\" >$3.02</td>\n",
       "                        <td id=\"T_c6eadf2e_1eb1_11ea_b59d_c4d987659bdarow1_col2\" class=\"data row1 col2\" >$1,967.64</td>\n",
       "                        <td id=\"T_c6eadf2e_1eb1_11ea_b59d_c4d987659bdarow1_col3\" class=\"data row1 col3\" >$4.07</td>\n",
       "            </tr>\n",
       "            <tr>\n",
       "                        <th id=\"T_c6eadf2e_1eb1_11ea_b59d_c4d987659bdalevel0_row2\" class=\"row_heading level0 row2\" >Other / Non-Disclosed</th>\n",
       "                        <td id=\"T_c6eadf2e_1eb1_11ea_b59d_c4d987659bdarow2_col0\" class=\"data row2 col0\" >15</td>\n",
       "                        <td id=\"T_c6eadf2e_1eb1_11ea_b59d_c4d987659bdarow2_col1\" class=\"data row2 col1\" >$3.35</td>\n",
       "                        <td id=\"T_c6eadf2e_1eb1_11ea_b59d_c4d987659bdarow2_col2\" class=\"data row2 col2\" >$50.19</td>\n",
       "                        <td id=\"T_c6eadf2e_1eb1_11ea_b59d_c4d987659bdarow2_col3\" class=\"data row2 col3\" >$4.56</td>\n",
       "            </tr>\n",
       "    </tbody></table>"
      ],
      "text/plain": [
       "<pandas.io.formats.style.Styler at 0x2687bab7e48>"
      ]
     },
     "execution_count": 36,
     "metadata": {},
     "output_type": "execute_result"
    }
   ],
   "source": [
    "gender_demographics.style.format({\"Average Purchase Value\":\"${:,.2f}\",\n",
    "                                  \"Average Purchase Price\":\"${:,.2f}\",\n",
    "                                  \"Avg Purchase Total per Person\":\"${:,.2f}\"})"
   ]
  },
  {
   "cell_type": "code",
   "execution_count": 37,
   "metadata": {},
   "outputs": [],
   "source": [
    "age_bins = [0, 9.90, 14.90, 19.90, 24.90, 29.90, 34.90, 39.90, 99999]\n",
    "group_names = [\"<10\", \"10-14\", \"15-19\", \"20-24\", \"25-29\", \"30-34\", \"35-39\", \"40+\"]\n"
   ]
  },
  {
   "cell_type": "code",
   "execution_count": 38,
   "metadata": {},
   "outputs": [
    {
     "data": {
      "text/html": [
       "<div>\n",
       "<style scoped>\n",
       "    .dataframe tbody tr th:only-of-type {\n",
       "        vertical-align: middle;\n",
       "    }\n",
       "\n",
       "    .dataframe tbody tr th {\n",
       "        vertical-align: top;\n",
       "    }\n",
       "\n",
       "    .dataframe thead th {\n",
       "        text-align: right;\n",
       "    }\n",
       "</style>\n",
       "<table border=\"1\" class=\"dataframe\">\n",
       "  <thead>\n",
       "    <tr style=\"text-align: right;\">\n",
       "      <th></th>\n",
       "      <th>Purchase ID</th>\n",
       "      <th>SN</th>\n",
       "      <th>Age</th>\n",
       "      <th>Gender</th>\n",
       "      <th>Item ID</th>\n",
       "      <th>Item Name</th>\n",
       "      <th>Price</th>\n",
       "      <th>Age Group</th>\n",
       "    </tr>\n",
       "  </thead>\n",
       "  <tbody>\n",
       "    <tr>\n",
       "      <th>0</th>\n",
       "      <td>0</td>\n",
       "      <td>Lisim78</td>\n",
       "      <td>20</td>\n",
       "      <td>Male</td>\n",
       "      <td>108</td>\n",
       "      <td>Extraction, Quickblade Of Trembling Hands</td>\n",
       "      <td>3.53</td>\n",
       "      <td>20-24</td>\n",
       "    </tr>\n",
       "    <tr>\n",
       "      <th>1</th>\n",
       "      <td>1</td>\n",
       "      <td>Lisovynya38</td>\n",
       "      <td>40</td>\n",
       "      <td>Male</td>\n",
       "      <td>143</td>\n",
       "      <td>Frenzied Scimitar</td>\n",
       "      <td>1.56</td>\n",
       "      <td>40+</td>\n",
       "    </tr>\n",
       "    <tr>\n",
       "      <th>2</th>\n",
       "      <td>2</td>\n",
       "      <td>Ithergue48</td>\n",
       "      <td>24</td>\n",
       "      <td>Male</td>\n",
       "      <td>92</td>\n",
       "      <td>Final Critic</td>\n",
       "      <td>4.88</td>\n",
       "      <td>20-24</td>\n",
       "    </tr>\n",
       "    <tr>\n",
       "      <th>3</th>\n",
       "      <td>3</td>\n",
       "      <td>Chamassasya86</td>\n",
       "      <td>24</td>\n",
       "      <td>Male</td>\n",
       "      <td>100</td>\n",
       "      <td>Blindscythe</td>\n",
       "      <td>3.27</td>\n",
       "      <td>20-24</td>\n",
       "    </tr>\n",
       "    <tr>\n",
       "      <th>4</th>\n",
       "      <td>4</td>\n",
       "      <td>Iskosia90</td>\n",
       "      <td>23</td>\n",
       "      <td>Male</td>\n",
       "      <td>131</td>\n",
       "      <td>Fury</td>\n",
       "      <td>1.44</td>\n",
       "      <td>20-24</td>\n",
       "    </tr>\n",
       "    <tr>\n",
       "      <th>...</th>\n",
       "      <td>...</td>\n",
       "      <td>...</td>\n",
       "      <td>...</td>\n",
       "      <td>...</td>\n",
       "      <td>...</td>\n",
       "      <td>...</td>\n",
       "      <td>...</td>\n",
       "      <td>...</td>\n",
       "    </tr>\n",
       "    <tr>\n",
       "      <th>775</th>\n",
       "      <td>775</td>\n",
       "      <td>Aethedru70</td>\n",
       "      <td>21</td>\n",
       "      <td>Female</td>\n",
       "      <td>60</td>\n",
       "      <td>Wolf</td>\n",
       "      <td>3.54</td>\n",
       "      <td>20-24</td>\n",
       "    </tr>\n",
       "    <tr>\n",
       "      <th>776</th>\n",
       "      <td>776</td>\n",
       "      <td>Iral74</td>\n",
       "      <td>21</td>\n",
       "      <td>Male</td>\n",
       "      <td>164</td>\n",
       "      <td>Exiled Doomblade</td>\n",
       "      <td>1.63</td>\n",
       "      <td>20-24</td>\n",
       "    </tr>\n",
       "    <tr>\n",
       "      <th>777</th>\n",
       "      <td>777</td>\n",
       "      <td>Yathecal72</td>\n",
       "      <td>20</td>\n",
       "      <td>Male</td>\n",
       "      <td>67</td>\n",
       "      <td>Celeste, Incarnation of the Corrupted</td>\n",
       "      <td>3.46</td>\n",
       "      <td>20-24</td>\n",
       "    </tr>\n",
       "    <tr>\n",
       "      <th>778</th>\n",
       "      <td>778</td>\n",
       "      <td>Sisur91</td>\n",
       "      <td>7</td>\n",
       "      <td>Male</td>\n",
       "      <td>101</td>\n",
       "      <td>Final Critic</td>\n",
       "      <td>4.19</td>\n",
       "      <td>&lt;10</td>\n",
       "    </tr>\n",
       "    <tr>\n",
       "      <th>779</th>\n",
       "      <td>779</td>\n",
       "      <td>Ennrian78</td>\n",
       "      <td>24</td>\n",
       "      <td>Male</td>\n",
       "      <td>50</td>\n",
       "      <td>Dawn</td>\n",
       "      <td>4.60</td>\n",
       "      <td>20-24</td>\n",
       "    </tr>\n",
       "  </tbody>\n",
       "</table>\n",
       "<p>780 rows × 8 columns</p>\n",
       "</div>"
      ],
      "text/plain": [
       "     Purchase ID             SN  Age  Gender  Item ID  \\\n",
       "0              0        Lisim78   20    Male      108   \n",
       "1              1    Lisovynya38   40    Male      143   \n",
       "2              2     Ithergue48   24    Male       92   \n",
       "3              3  Chamassasya86   24    Male      100   \n",
       "4              4      Iskosia90   23    Male      131   \n",
       "..           ...            ...  ...     ...      ...   \n",
       "775          775     Aethedru70   21  Female       60   \n",
       "776          776         Iral74   21    Male      164   \n",
       "777          777     Yathecal72   20    Male       67   \n",
       "778          778        Sisur91    7    Male      101   \n",
       "779          779      Ennrian78   24    Male       50   \n",
       "\n",
       "                                     Item Name  Price Age Group  \n",
       "0    Extraction, Quickblade Of Trembling Hands   3.53     20-24  \n",
       "1                            Frenzied Scimitar   1.56       40+  \n",
       "2                                 Final Critic   4.88     20-24  \n",
       "3                                  Blindscythe   3.27     20-24  \n",
       "4                                         Fury   1.44     20-24  \n",
       "..                                         ...    ...       ...  \n",
       "775                                       Wolf   3.54     20-24  \n",
       "776                           Exiled Doomblade   1.63     20-24  \n",
       "777      Celeste, Incarnation of the Corrupted   3.46     20-24  \n",
       "778                               Final Critic   4.19       <10  \n",
       "779                                       Dawn   4.60     20-24  \n",
       "\n",
       "[780 rows x 8 columns]"
      ]
     },
     "execution_count": 38,
     "metadata": {},
     "output_type": "execute_result"
    }
   ],
   "source": [
    "purchase_data[\"Age Group\"] = pd.cut(purchase_data[\"Age\"],age_bins, labels=group_names)\n",
    "purchase_data"
   ]
  },
  {
   "cell_type": "code",
   "execution_count": 39,
   "metadata": {},
   "outputs": [],
   "source": [
    "age_grouped = purchase_data.groupby(\"Age Group\")\n"
   ]
  },
  {
   "cell_type": "code",
   "execution_count": 40,
   "metadata": {},
   "outputs": [],
   "source": [
    "total_count_age = age_grouped[\"SN\"].nunique()\n"
   ]
  },
  {
   "cell_type": "code",
   "execution_count": 41,
   "metadata": {},
   "outputs": [],
   "source": [
    "percentage_by_age = (total_count_age/total_players) * 100"
   ]
  },
  {
   "cell_type": "code",
   "execution_count": 42,
   "metadata": {},
   "outputs": [],
   "source": [
    "age_demographics = pd.DataFrame({\"Percentage of Players\": percentage_by_age, \"Total Count\": total_count_age})"
   ]
  },
  {
   "cell_type": "code",
   "execution_count": 43,
   "metadata": {},
   "outputs": [],
   "source": [
    "age_demographics.index.name = None\n"
   ]
  },
  {
   "cell_type": "code",
   "execution_count": 44,
   "metadata": {},
   "outputs": [
    {
     "data": {
      "text/html": [
       "<style  type=\"text/css\" >\n",
       "</style><table id=\"T_c9e3601a_1eb1_11ea_b542_c4d987659bda\" ><thead>    <tr>        <th class=\"blank level0\" ></th>        <th class=\"col_heading level0 col0\" >Percentage of Players</th>        <th class=\"col_heading level0 col1\" >Total Count</th>    </tr></thead><tbody>\n",
       "                <tr>\n",
       "                        <th id=\"T_c9e3601a_1eb1_11ea_b542_c4d987659bdalevel0_row0\" class=\"row_heading level0 row0\" ><10</th>\n",
       "                        <td id=\"T_c9e3601a_1eb1_11ea_b542_c4d987659bdarow0_col0\" class=\"data row0 col0\" >2.95</td>\n",
       "                        <td id=\"T_c9e3601a_1eb1_11ea_b542_c4d987659bdarow0_col1\" class=\"data row0 col1\" >17</td>\n",
       "            </tr>\n",
       "            <tr>\n",
       "                        <th id=\"T_c9e3601a_1eb1_11ea_b542_c4d987659bdalevel0_row1\" class=\"row_heading level0 row1\" >10-14</th>\n",
       "                        <td id=\"T_c9e3601a_1eb1_11ea_b542_c4d987659bdarow1_col0\" class=\"data row1 col0\" >3.82</td>\n",
       "                        <td id=\"T_c9e3601a_1eb1_11ea_b542_c4d987659bdarow1_col1\" class=\"data row1 col1\" >22</td>\n",
       "            </tr>\n",
       "            <tr>\n",
       "                        <th id=\"T_c9e3601a_1eb1_11ea_b542_c4d987659bdalevel0_row2\" class=\"row_heading level0 row2\" >15-19</th>\n",
       "                        <td id=\"T_c9e3601a_1eb1_11ea_b542_c4d987659bdarow2_col0\" class=\"data row2 col0\" >18.58</td>\n",
       "                        <td id=\"T_c9e3601a_1eb1_11ea_b542_c4d987659bdarow2_col1\" class=\"data row2 col1\" >107</td>\n",
       "            </tr>\n",
       "            <tr>\n",
       "                        <th id=\"T_c9e3601a_1eb1_11ea_b542_c4d987659bdalevel0_row3\" class=\"row_heading level0 row3\" >20-24</th>\n",
       "                        <td id=\"T_c9e3601a_1eb1_11ea_b542_c4d987659bdarow3_col0\" class=\"data row3 col0\" >44.79</td>\n",
       "                        <td id=\"T_c9e3601a_1eb1_11ea_b542_c4d987659bdarow3_col1\" class=\"data row3 col1\" >258</td>\n",
       "            </tr>\n",
       "            <tr>\n",
       "                        <th id=\"T_c9e3601a_1eb1_11ea_b542_c4d987659bdalevel0_row4\" class=\"row_heading level0 row4\" >25-29</th>\n",
       "                        <td id=\"T_c9e3601a_1eb1_11ea_b542_c4d987659bdarow4_col0\" class=\"data row4 col0\" >13.37</td>\n",
       "                        <td id=\"T_c9e3601a_1eb1_11ea_b542_c4d987659bdarow4_col1\" class=\"data row4 col1\" >77</td>\n",
       "            </tr>\n",
       "            <tr>\n",
       "                        <th id=\"T_c9e3601a_1eb1_11ea_b542_c4d987659bdalevel0_row5\" class=\"row_heading level0 row5\" >30-34</th>\n",
       "                        <td id=\"T_c9e3601a_1eb1_11ea_b542_c4d987659bdarow5_col0\" class=\"data row5 col0\" >9.03</td>\n",
       "                        <td id=\"T_c9e3601a_1eb1_11ea_b542_c4d987659bdarow5_col1\" class=\"data row5 col1\" >52</td>\n",
       "            </tr>\n",
       "            <tr>\n",
       "                        <th id=\"T_c9e3601a_1eb1_11ea_b542_c4d987659bdalevel0_row6\" class=\"row_heading level0 row6\" >35-39</th>\n",
       "                        <td id=\"T_c9e3601a_1eb1_11ea_b542_c4d987659bdarow6_col0\" class=\"data row6 col0\" >5.38</td>\n",
       "                        <td id=\"T_c9e3601a_1eb1_11ea_b542_c4d987659bdarow6_col1\" class=\"data row6 col1\" >31</td>\n",
       "            </tr>\n",
       "            <tr>\n",
       "                        <th id=\"T_c9e3601a_1eb1_11ea_b542_c4d987659bdalevel0_row7\" class=\"row_heading level0 row7\" >40+</th>\n",
       "                        <td id=\"T_c9e3601a_1eb1_11ea_b542_c4d987659bdarow7_col0\" class=\"data row7 col0\" >2.08</td>\n",
       "                        <td id=\"T_c9e3601a_1eb1_11ea_b542_c4d987659bdarow7_col1\" class=\"data row7 col1\" >12</td>\n",
       "            </tr>\n",
       "    </tbody></table>"
      ],
      "text/plain": [
       "<pandas.io.formats.style.Styler at 0x2687badee48>"
      ]
     },
     "execution_count": 44,
     "metadata": {},
     "output_type": "execute_result"
    }
   ],
   "source": [
    "age_demographics.style.format({\"Percentage of Players\":\"{:,.2f}\"})"
   ]
  },
  {
   "cell_type": "code",
   "execution_count": 45,
   "metadata": {},
   "outputs": [],
   "source": [
    "purchase_count_age = age_grouped[\"Purchase ID\"].count()"
   ]
  },
  {
   "cell_type": "code",
   "execution_count": 46,
   "metadata": {},
   "outputs": [],
   "source": [
    "avg_purchase_price_age = age_grouped[\"Price\"].mean()"
   ]
  },
  {
   "cell_type": "code",
   "execution_count": 47,
   "metadata": {},
   "outputs": [],
   "source": [
    "total_purchase_value = age_grouped[\"Price\"].sum()"
   ]
  },
  {
   "cell_type": "code",
   "execution_count": 48,
   "metadata": {},
   "outputs": [],
   "source": [
    "avg_purchase_per_person_age = total_purchase_value/total_count_age"
   ]
  },
  {
   "cell_type": "code",
   "execution_count": 49,
   "metadata": {},
   "outputs": [],
   "source": [
    "age_demographics = pd.DataFrame({\"Purchase Count\": purchase_count_age,\n",
    "                                 \"Average Purchase Price\": avg_purchase_price_age,\n",
    "                                 \"Total Purchase Value\":total_purchase_value,\n",
    "                                 \"Average Purchase Total per Person\": avg_purchase_per_person_age})\n"
   ]
  },
  {
   "cell_type": "code",
   "execution_count": 50,
   "metadata": {},
   "outputs": [],
   "source": [
    "age_demographics.index.name = None\n",
    "\n"
   ]
  },
  {
   "cell_type": "code",
   "execution_count": 51,
   "metadata": {},
   "outputs": [
    {
     "data": {
      "text/html": [
       "<style  type=\"text/css\" >\n",
       "</style><table id=\"T_cc75ff92_1eb1_11ea_ae89_c4d987659bda\" ><thead>    <tr>        <th class=\"blank level0\" ></th>        <th class=\"col_heading level0 col0\" >Purchase Count</th>        <th class=\"col_heading level0 col1\" >Average Purchase Price</th>        <th class=\"col_heading level0 col2\" >Total Purchase Value</th>        <th class=\"col_heading level0 col3\" >Average Purchase Total per Person</th>    </tr></thead><tbody>\n",
       "                <tr>\n",
       "                        <th id=\"T_cc75ff92_1eb1_11ea_ae89_c4d987659bdalevel0_row0\" class=\"row_heading level0 row0\" ><10</th>\n",
       "                        <td id=\"T_cc75ff92_1eb1_11ea_ae89_c4d987659bdarow0_col0\" class=\"data row0 col0\" >23</td>\n",
       "                        <td id=\"T_cc75ff92_1eb1_11ea_ae89_c4d987659bdarow0_col1\" class=\"data row0 col1\" >$3.35</td>\n",
       "                        <td id=\"T_cc75ff92_1eb1_11ea_ae89_c4d987659bdarow0_col2\" class=\"data row0 col2\" >$77.13</td>\n",
       "                        <td id=\"T_cc75ff92_1eb1_11ea_ae89_c4d987659bdarow0_col3\" class=\"data row0 col3\" >$4.54</td>\n",
       "            </tr>\n",
       "            <tr>\n",
       "                        <th id=\"T_cc75ff92_1eb1_11ea_ae89_c4d987659bdalevel0_row1\" class=\"row_heading level0 row1\" >10-14</th>\n",
       "                        <td id=\"T_cc75ff92_1eb1_11ea_ae89_c4d987659bdarow1_col0\" class=\"data row1 col0\" >28</td>\n",
       "                        <td id=\"T_cc75ff92_1eb1_11ea_ae89_c4d987659bdarow1_col1\" class=\"data row1 col1\" >$2.96</td>\n",
       "                        <td id=\"T_cc75ff92_1eb1_11ea_ae89_c4d987659bdarow1_col2\" class=\"data row1 col2\" >$82.78</td>\n",
       "                        <td id=\"T_cc75ff92_1eb1_11ea_ae89_c4d987659bdarow1_col3\" class=\"data row1 col3\" >$3.76</td>\n",
       "            </tr>\n",
       "            <tr>\n",
       "                        <th id=\"T_cc75ff92_1eb1_11ea_ae89_c4d987659bdalevel0_row2\" class=\"row_heading level0 row2\" >15-19</th>\n",
       "                        <td id=\"T_cc75ff92_1eb1_11ea_ae89_c4d987659bdarow2_col0\" class=\"data row2 col0\" >136</td>\n",
       "                        <td id=\"T_cc75ff92_1eb1_11ea_ae89_c4d987659bdarow2_col1\" class=\"data row2 col1\" >$3.04</td>\n",
       "                        <td id=\"T_cc75ff92_1eb1_11ea_ae89_c4d987659bdarow2_col2\" class=\"data row2 col2\" >$412.89</td>\n",
       "                        <td id=\"T_cc75ff92_1eb1_11ea_ae89_c4d987659bdarow2_col3\" class=\"data row2 col3\" >$3.86</td>\n",
       "            </tr>\n",
       "            <tr>\n",
       "                        <th id=\"T_cc75ff92_1eb1_11ea_ae89_c4d987659bdalevel0_row3\" class=\"row_heading level0 row3\" >20-24</th>\n",
       "                        <td id=\"T_cc75ff92_1eb1_11ea_ae89_c4d987659bdarow3_col0\" class=\"data row3 col0\" >365</td>\n",
       "                        <td id=\"T_cc75ff92_1eb1_11ea_ae89_c4d987659bdarow3_col1\" class=\"data row3 col1\" >$3.05</td>\n",
       "                        <td id=\"T_cc75ff92_1eb1_11ea_ae89_c4d987659bdarow3_col2\" class=\"data row3 col2\" >$1,114.06</td>\n",
       "                        <td id=\"T_cc75ff92_1eb1_11ea_ae89_c4d987659bdarow3_col3\" class=\"data row3 col3\" >$4.32</td>\n",
       "            </tr>\n",
       "            <tr>\n",
       "                        <th id=\"T_cc75ff92_1eb1_11ea_ae89_c4d987659bdalevel0_row4\" class=\"row_heading level0 row4\" >25-29</th>\n",
       "                        <td id=\"T_cc75ff92_1eb1_11ea_ae89_c4d987659bdarow4_col0\" class=\"data row4 col0\" >101</td>\n",
       "                        <td id=\"T_cc75ff92_1eb1_11ea_ae89_c4d987659bdarow4_col1\" class=\"data row4 col1\" >$2.90</td>\n",
       "                        <td id=\"T_cc75ff92_1eb1_11ea_ae89_c4d987659bdarow4_col2\" class=\"data row4 col2\" >$293.00</td>\n",
       "                        <td id=\"T_cc75ff92_1eb1_11ea_ae89_c4d987659bdarow4_col3\" class=\"data row4 col3\" >$3.81</td>\n",
       "            </tr>\n",
       "            <tr>\n",
       "                        <th id=\"T_cc75ff92_1eb1_11ea_ae89_c4d987659bdalevel0_row5\" class=\"row_heading level0 row5\" >30-34</th>\n",
       "                        <td id=\"T_cc75ff92_1eb1_11ea_ae89_c4d987659bdarow5_col0\" class=\"data row5 col0\" >73</td>\n",
       "                        <td id=\"T_cc75ff92_1eb1_11ea_ae89_c4d987659bdarow5_col1\" class=\"data row5 col1\" >$2.93</td>\n",
       "                        <td id=\"T_cc75ff92_1eb1_11ea_ae89_c4d987659bdarow5_col2\" class=\"data row5 col2\" >$214.00</td>\n",
       "                        <td id=\"T_cc75ff92_1eb1_11ea_ae89_c4d987659bdarow5_col3\" class=\"data row5 col3\" >$4.12</td>\n",
       "            </tr>\n",
       "            <tr>\n",
       "                        <th id=\"T_cc75ff92_1eb1_11ea_ae89_c4d987659bdalevel0_row6\" class=\"row_heading level0 row6\" >35-39</th>\n",
       "                        <td id=\"T_cc75ff92_1eb1_11ea_ae89_c4d987659bdarow6_col0\" class=\"data row6 col0\" >41</td>\n",
       "                        <td id=\"T_cc75ff92_1eb1_11ea_ae89_c4d987659bdarow6_col1\" class=\"data row6 col1\" >$3.60</td>\n",
       "                        <td id=\"T_cc75ff92_1eb1_11ea_ae89_c4d987659bdarow6_col2\" class=\"data row6 col2\" >$147.67</td>\n",
       "                        <td id=\"T_cc75ff92_1eb1_11ea_ae89_c4d987659bdarow6_col3\" class=\"data row6 col3\" >$4.76</td>\n",
       "            </tr>\n",
       "            <tr>\n",
       "                        <th id=\"T_cc75ff92_1eb1_11ea_ae89_c4d987659bdalevel0_row7\" class=\"row_heading level0 row7\" >40+</th>\n",
       "                        <td id=\"T_cc75ff92_1eb1_11ea_ae89_c4d987659bdarow7_col0\" class=\"data row7 col0\" >13</td>\n",
       "                        <td id=\"T_cc75ff92_1eb1_11ea_ae89_c4d987659bdarow7_col1\" class=\"data row7 col1\" >$2.94</td>\n",
       "                        <td id=\"T_cc75ff92_1eb1_11ea_ae89_c4d987659bdarow7_col2\" class=\"data row7 col2\" >$38.24</td>\n",
       "                        <td id=\"T_cc75ff92_1eb1_11ea_ae89_c4d987659bdarow7_col3\" class=\"data row7 col3\" >$3.19</td>\n",
       "            </tr>\n",
       "    </tbody></table>"
      ],
      "text/plain": [
       "<pandas.io.formats.style.Styler at 0x2687bade6a0>"
      ]
     },
     "execution_count": 51,
     "metadata": {},
     "output_type": "execute_result"
    }
   ],
   "source": [
    "age_demographics.style.format({\"Average Purchase Price\":\"${:,.2f}\",\n",
    "                               \"Total Purchase Value\":\"${:,.2f}\",\n",
    "                               \"Average Purchase Total per Person\":\"${:,.2f}\"})"
   ]
  },
  {
   "cell_type": "code",
   "execution_count": 52,
   "metadata": {},
   "outputs": [],
   "source": [
    "spender_stats = purchase_data.groupby(\"SN\")"
   ]
  },
  {
   "cell_type": "code",
   "execution_count": 53,
   "metadata": {},
   "outputs": [],
   "source": [
    "purchase_count_spender = spender_stats[\"Purchase ID\"].count()"
   ]
  },
  {
   "cell_type": "code",
   "execution_count": 54,
   "metadata": {},
   "outputs": [],
   "source": [
    "avg_purchase_price_spender = spender_stats[\"Price\"].mean()"
   ]
  },
  {
   "cell_type": "code",
   "execution_count": 55,
   "metadata": {},
   "outputs": [],
   "source": [
    "purchase_total_spender = spender_stats[\"Price\"].sum()\n"
   ]
  },
  {
   "cell_type": "code",
   "execution_count": 56,
   "metadata": {},
   "outputs": [],
   "source": [
    "top_spenders = pd.DataFrame({\"Purchase Count\": purchase_count_spender,\n",
    "                             \"Average Purchase Price\": avg_purchase_price_spender,\n",
    "                             \"Total Purchase Value\":purchase_total_spender})"
   ]
  },
  {
   "cell_type": "code",
   "execution_count": 57,
   "metadata": {},
   "outputs": [],
   "source": [
    "formatted_spenders = top_spenders.sort_values([\"Total Purchase Value\"], ascending=False).head()\n"
   ]
  },
  {
   "cell_type": "code",
   "execution_count": 58,
   "metadata": {},
   "outputs": [
    {
     "data": {
      "text/html": [
       "<style  type=\"text/css\" >\n",
       "</style><table id=\"T_cee087d2_1eb1_11ea_97d9_c4d987659bda\" ><thead>    <tr>        <th class=\"blank level0\" ></th>        <th class=\"col_heading level0 col0\" >Purchase Count</th>        <th class=\"col_heading level0 col1\" >Average Purchase Price</th>        <th class=\"col_heading level0 col2\" >Total Purchase Value</th>    </tr>    <tr>        <th class=\"index_name level0\" >SN</th>        <th class=\"blank\" ></th>        <th class=\"blank\" ></th>        <th class=\"blank\" ></th>    </tr></thead><tbody>\n",
       "                <tr>\n",
       "                        <th id=\"T_cee087d2_1eb1_11ea_97d9_c4d987659bdalevel0_row0\" class=\"row_heading level0 row0\" >Lisosia93</th>\n",
       "                        <td id=\"T_cee087d2_1eb1_11ea_97d9_c4d987659bdarow0_col0\" class=\"data row0 col0\" >5</td>\n",
       "                        <td id=\"T_cee087d2_1eb1_11ea_97d9_c4d987659bdarow0_col1\" class=\"data row0 col1\" >$3.79</td>\n",
       "                        <td id=\"T_cee087d2_1eb1_11ea_97d9_c4d987659bdarow0_col2\" class=\"data row0 col2\" >$18.96</td>\n",
       "            </tr>\n",
       "            <tr>\n",
       "                        <th id=\"T_cee087d2_1eb1_11ea_97d9_c4d987659bdalevel0_row1\" class=\"row_heading level0 row1\" >Idastidru52</th>\n",
       "                        <td id=\"T_cee087d2_1eb1_11ea_97d9_c4d987659bdarow1_col0\" class=\"data row1 col0\" >4</td>\n",
       "                        <td id=\"T_cee087d2_1eb1_11ea_97d9_c4d987659bdarow1_col1\" class=\"data row1 col1\" >$3.86</td>\n",
       "                        <td id=\"T_cee087d2_1eb1_11ea_97d9_c4d987659bdarow1_col2\" class=\"data row1 col2\" >$15.45</td>\n",
       "            </tr>\n",
       "            <tr>\n",
       "                        <th id=\"T_cee087d2_1eb1_11ea_97d9_c4d987659bdalevel0_row2\" class=\"row_heading level0 row2\" >Chamjask73</th>\n",
       "                        <td id=\"T_cee087d2_1eb1_11ea_97d9_c4d987659bdarow2_col0\" class=\"data row2 col0\" >3</td>\n",
       "                        <td id=\"T_cee087d2_1eb1_11ea_97d9_c4d987659bdarow2_col1\" class=\"data row2 col1\" >$4.61</td>\n",
       "                        <td id=\"T_cee087d2_1eb1_11ea_97d9_c4d987659bdarow2_col2\" class=\"data row2 col2\" >$13.83</td>\n",
       "            </tr>\n",
       "            <tr>\n",
       "                        <th id=\"T_cee087d2_1eb1_11ea_97d9_c4d987659bdalevel0_row3\" class=\"row_heading level0 row3\" >Iral74</th>\n",
       "                        <td id=\"T_cee087d2_1eb1_11ea_97d9_c4d987659bdarow3_col0\" class=\"data row3 col0\" >4</td>\n",
       "                        <td id=\"T_cee087d2_1eb1_11ea_97d9_c4d987659bdarow3_col1\" class=\"data row3 col1\" >$3.40</td>\n",
       "                        <td id=\"T_cee087d2_1eb1_11ea_97d9_c4d987659bdarow3_col2\" class=\"data row3 col2\" >$13.62</td>\n",
       "            </tr>\n",
       "            <tr>\n",
       "                        <th id=\"T_cee087d2_1eb1_11ea_97d9_c4d987659bdalevel0_row4\" class=\"row_heading level0 row4\" >Iskadarya95</th>\n",
       "                        <td id=\"T_cee087d2_1eb1_11ea_97d9_c4d987659bdarow4_col0\" class=\"data row4 col0\" >3</td>\n",
       "                        <td id=\"T_cee087d2_1eb1_11ea_97d9_c4d987659bdarow4_col1\" class=\"data row4 col1\" >$4.37</td>\n",
       "                        <td id=\"T_cee087d2_1eb1_11ea_97d9_c4d987659bdarow4_col2\" class=\"data row4 col2\" >$13.10</td>\n",
       "            </tr>\n",
       "    </tbody></table>"
      ],
      "text/plain": [
       "<pandas.io.formats.style.Styler at 0x2687bab7630>"
      ]
     },
     "execution_count": 58,
     "metadata": {},
     "output_type": "execute_result"
    }
   ],
   "source": [
    "formatted_spenders.style.format({\"Average Purchase Total\":\"${:,.2f}\",\n",
    "                                 \"Average Purchase Price\":\"${:,.2f}\", \n",
    "                                 \"Total Purchase Value\":\"${:,.2f}\"})"
   ]
  },
  {
   "cell_type": "code",
   "execution_count": 59,
   "metadata": {},
   "outputs": [],
   "source": [
    "items = purchase_data[[\"Item ID\", \"Item Name\", \"Price\"]]\n"
   ]
  },
  {
   "cell_type": "code",
   "execution_count": 60,
   "metadata": {},
   "outputs": [],
   "source": [
    "item_stats = items.groupby([\"Item ID\",\"Item Name\"])\n"
   ]
  },
  {
   "cell_type": "code",
   "execution_count": 61,
   "metadata": {},
   "outputs": [],
   "source": [
    "purchase_count_item = item_stats[\"Price\"].count()\n"
   ]
  },
  {
   "cell_type": "code",
   "execution_count": 62,
   "metadata": {},
   "outputs": [],
   "source": [
    "purchase_value = (item_stats[\"Price\"].sum()) \n"
   ]
  },
  {
   "cell_type": "code",
   "execution_count": 63,
   "metadata": {},
   "outputs": [],
   "source": [
    "item_price = purchase_value/purchase_count_item"
   ]
  },
  {
   "cell_type": "code",
   "execution_count": 64,
   "metadata": {},
   "outputs": [],
   "source": [
    "most_popular_items = pd.DataFrame({\"Purchase Count\": purchase_count_item, \n",
    "                                   \"Item Price\": item_price,\n",
    "                                   \"Total Purchase Value\":purchase_value})\n"
   ]
  },
  {
   "cell_type": "code",
   "execution_count": 65,
   "metadata": {},
   "outputs": [],
   "source": [
    "popular_formatted = most_popular_items.sort_values([\"Purchase Count\"], ascending=False).head()"
   ]
  },
  {
   "cell_type": "code",
   "execution_count": 66,
   "metadata": {},
   "outputs": [
    {
     "data": {
      "text/html": [
       "<style  type=\"text/css\" >\n",
       "</style><table id=\"T_d18b9986_1eb1_11ea_b4fb_c4d987659bda\" ><thead>    <tr>        <th class=\"blank\" ></th>        <th class=\"blank level0\" ></th>        <th class=\"col_heading level0 col0\" >Purchase Count</th>        <th class=\"col_heading level0 col1\" >Item Price</th>        <th class=\"col_heading level0 col2\" >Total Purchase Value</th>    </tr>    <tr>        <th class=\"index_name level0\" >Item ID</th>        <th class=\"index_name level1\" >Item Name</th>        <th class=\"blank\" ></th>        <th class=\"blank\" ></th>        <th class=\"blank\" ></th>    </tr></thead><tbody>\n",
       "                <tr>\n",
       "                        <th id=\"T_d18b9986_1eb1_11ea_b4fb_c4d987659bdalevel0_row0\" class=\"row_heading level0 row0\" >178</th>\n",
       "                        <th id=\"T_d18b9986_1eb1_11ea_b4fb_c4d987659bdalevel1_row0\" class=\"row_heading level1 row0\" >Oathbreaker, Last Hope of the Breaking Storm</th>\n",
       "                        <td id=\"T_d18b9986_1eb1_11ea_b4fb_c4d987659bdarow0_col0\" class=\"data row0 col0\" >12</td>\n",
       "                        <td id=\"T_d18b9986_1eb1_11ea_b4fb_c4d987659bdarow0_col1\" class=\"data row0 col1\" >$4.23</td>\n",
       "                        <td id=\"T_d18b9986_1eb1_11ea_b4fb_c4d987659bdarow0_col2\" class=\"data row0 col2\" >$50.76</td>\n",
       "            </tr>\n",
       "            <tr>\n",
       "                        <th id=\"T_d18b9986_1eb1_11ea_b4fb_c4d987659bdalevel0_row1\" class=\"row_heading level0 row1\" >145</th>\n",
       "                        <th id=\"T_d18b9986_1eb1_11ea_b4fb_c4d987659bdalevel1_row1\" class=\"row_heading level1 row1\" >Fiery Glass Crusader</th>\n",
       "                        <td id=\"T_d18b9986_1eb1_11ea_b4fb_c4d987659bdarow1_col0\" class=\"data row1 col0\" >9</td>\n",
       "                        <td id=\"T_d18b9986_1eb1_11ea_b4fb_c4d987659bdarow1_col1\" class=\"data row1 col1\" >$4.58</td>\n",
       "                        <td id=\"T_d18b9986_1eb1_11ea_b4fb_c4d987659bdarow1_col2\" class=\"data row1 col2\" >$41.22</td>\n",
       "            </tr>\n",
       "            <tr>\n",
       "                        <th id=\"T_d18b9986_1eb1_11ea_b4fb_c4d987659bdalevel0_row2\" class=\"row_heading level0 row2\" >108</th>\n",
       "                        <th id=\"T_d18b9986_1eb1_11ea_b4fb_c4d987659bdalevel1_row2\" class=\"row_heading level1 row2\" >Extraction, Quickblade Of Trembling Hands</th>\n",
       "                        <td id=\"T_d18b9986_1eb1_11ea_b4fb_c4d987659bdarow2_col0\" class=\"data row2 col0\" >9</td>\n",
       "                        <td id=\"T_d18b9986_1eb1_11ea_b4fb_c4d987659bdarow2_col1\" class=\"data row2 col1\" >$3.53</td>\n",
       "                        <td id=\"T_d18b9986_1eb1_11ea_b4fb_c4d987659bdarow2_col2\" class=\"data row2 col2\" >$31.77</td>\n",
       "            </tr>\n",
       "            <tr>\n",
       "                        <th id=\"T_d18b9986_1eb1_11ea_b4fb_c4d987659bdalevel0_row3\" class=\"row_heading level0 row3\" >82</th>\n",
       "                        <th id=\"T_d18b9986_1eb1_11ea_b4fb_c4d987659bdalevel1_row3\" class=\"row_heading level1 row3\" >Nirvana</th>\n",
       "                        <td id=\"T_d18b9986_1eb1_11ea_b4fb_c4d987659bdarow3_col0\" class=\"data row3 col0\" >9</td>\n",
       "                        <td id=\"T_d18b9986_1eb1_11ea_b4fb_c4d987659bdarow3_col1\" class=\"data row3 col1\" >$4.90</td>\n",
       "                        <td id=\"T_d18b9986_1eb1_11ea_b4fb_c4d987659bdarow3_col2\" class=\"data row3 col2\" >$44.10</td>\n",
       "            </tr>\n",
       "            <tr>\n",
       "                        <th id=\"T_d18b9986_1eb1_11ea_b4fb_c4d987659bdalevel0_row4\" class=\"row_heading level0 row4\" >19</th>\n",
       "                        <th id=\"T_d18b9986_1eb1_11ea_b4fb_c4d987659bdalevel1_row4\" class=\"row_heading level1 row4\" >Pursuit, Cudgel of Necromancy</th>\n",
       "                        <td id=\"T_d18b9986_1eb1_11ea_b4fb_c4d987659bdarow4_col0\" class=\"data row4 col0\" >8</td>\n",
       "                        <td id=\"T_d18b9986_1eb1_11ea_b4fb_c4d987659bdarow4_col1\" class=\"data row4 col1\" >$1.02</td>\n",
       "                        <td id=\"T_d18b9986_1eb1_11ea_b4fb_c4d987659bdarow4_col2\" class=\"data row4 col2\" >$8.16</td>\n",
       "            </tr>\n",
       "    </tbody></table>"
      ],
      "text/plain": [
       "<pandas.io.formats.style.Styler at 0x2687bae8208>"
      ]
     },
     "execution_count": 66,
     "metadata": {},
     "output_type": "execute_result"
    }
   ],
   "source": [
    "popular_formatted.style.format({\"Item Price\":\"${:,.2f}\",\n",
    "                                \"Total Purchase Value\":\"${:,.2f}\"})"
   ]
  },
  {
   "cell_type": "code",
   "execution_count": 67,
   "metadata": {},
   "outputs": [],
   "source": [
    "popular_formatted = most_popular_items.sort_values([\"Total Purchase Value\"],\n",
    "                                                   ascending=False).head()"
   ]
  },
  {
   "cell_type": "code",
   "execution_count": 68,
   "metadata": {},
   "outputs": [
    {
     "data": {
      "text/html": [
       "<style  type=\"text/css\" >\n",
       "</style><table id=\"T_d24227ae_1eb1_11ea_8136_c4d987659bda\" ><thead>    <tr>        <th class=\"blank\" ></th>        <th class=\"blank level0\" ></th>        <th class=\"col_heading level0 col0\" >Purchase Count</th>        <th class=\"col_heading level0 col1\" >Item Price</th>        <th class=\"col_heading level0 col2\" >Total Purchase Value</th>    </tr>    <tr>        <th class=\"index_name level0\" >Item ID</th>        <th class=\"index_name level1\" >Item Name</th>        <th class=\"blank\" ></th>        <th class=\"blank\" ></th>        <th class=\"blank\" ></th>    </tr></thead><tbody>\n",
       "                <tr>\n",
       "                        <th id=\"T_d24227ae_1eb1_11ea_8136_c4d987659bdalevel0_row0\" class=\"row_heading level0 row0\" >178</th>\n",
       "                        <th id=\"T_d24227ae_1eb1_11ea_8136_c4d987659bdalevel1_row0\" class=\"row_heading level1 row0\" >Oathbreaker, Last Hope of the Breaking Storm</th>\n",
       "                        <td id=\"T_d24227ae_1eb1_11ea_8136_c4d987659bdarow0_col0\" class=\"data row0 col0\" >12</td>\n",
       "                        <td id=\"T_d24227ae_1eb1_11ea_8136_c4d987659bdarow0_col1\" class=\"data row0 col1\" >$4.23</td>\n",
       "                        <td id=\"T_d24227ae_1eb1_11ea_8136_c4d987659bdarow0_col2\" class=\"data row0 col2\" >$50.76</td>\n",
       "            </tr>\n",
       "            <tr>\n",
       "                        <th id=\"T_d24227ae_1eb1_11ea_8136_c4d987659bdalevel0_row1\" class=\"row_heading level0 row1\" >82</th>\n",
       "                        <th id=\"T_d24227ae_1eb1_11ea_8136_c4d987659bdalevel1_row1\" class=\"row_heading level1 row1\" >Nirvana</th>\n",
       "                        <td id=\"T_d24227ae_1eb1_11ea_8136_c4d987659bdarow1_col0\" class=\"data row1 col0\" >9</td>\n",
       "                        <td id=\"T_d24227ae_1eb1_11ea_8136_c4d987659bdarow1_col1\" class=\"data row1 col1\" >$4.90</td>\n",
       "                        <td id=\"T_d24227ae_1eb1_11ea_8136_c4d987659bdarow1_col2\" class=\"data row1 col2\" >$44.10</td>\n",
       "            </tr>\n",
       "            <tr>\n",
       "                        <th id=\"T_d24227ae_1eb1_11ea_8136_c4d987659bdalevel0_row2\" class=\"row_heading level0 row2\" >145</th>\n",
       "                        <th id=\"T_d24227ae_1eb1_11ea_8136_c4d987659bdalevel1_row2\" class=\"row_heading level1 row2\" >Fiery Glass Crusader</th>\n",
       "                        <td id=\"T_d24227ae_1eb1_11ea_8136_c4d987659bdarow2_col0\" class=\"data row2 col0\" >9</td>\n",
       "                        <td id=\"T_d24227ae_1eb1_11ea_8136_c4d987659bdarow2_col1\" class=\"data row2 col1\" >$4.58</td>\n",
       "                        <td id=\"T_d24227ae_1eb1_11ea_8136_c4d987659bdarow2_col2\" class=\"data row2 col2\" >$41.22</td>\n",
       "            </tr>\n",
       "            <tr>\n",
       "                        <th id=\"T_d24227ae_1eb1_11ea_8136_c4d987659bdalevel0_row3\" class=\"row_heading level0 row3\" >92</th>\n",
       "                        <th id=\"T_d24227ae_1eb1_11ea_8136_c4d987659bdalevel1_row3\" class=\"row_heading level1 row3\" >Final Critic</th>\n",
       "                        <td id=\"T_d24227ae_1eb1_11ea_8136_c4d987659bdarow3_col0\" class=\"data row3 col0\" >8</td>\n",
       "                        <td id=\"T_d24227ae_1eb1_11ea_8136_c4d987659bdarow3_col1\" class=\"data row3 col1\" >$4.88</td>\n",
       "                        <td id=\"T_d24227ae_1eb1_11ea_8136_c4d987659bdarow3_col2\" class=\"data row3 col2\" >$39.04</td>\n",
       "            </tr>\n",
       "            <tr>\n",
       "                        <th id=\"T_d24227ae_1eb1_11ea_8136_c4d987659bdalevel0_row4\" class=\"row_heading level0 row4\" >103</th>\n",
       "                        <th id=\"T_d24227ae_1eb1_11ea_8136_c4d987659bdalevel1_row4\" class=\"row_heading level1 row4\" >Singed Scalpel</th>\n",
       "                        <td id=\"T_d24227ae_1eb1_11ea_8136_c4d987659bdarow4_col0\" class=\"data row4 col0\" >8</td>\n",
       "                        <td id=\"T_d24227ae_1eb1_11ea_8136_c4d987659bdarow4_col1\" class=\"data row4 col1\" >$4.35</td>\n",
       "                        <td id=\"T_d24227ae_1eb1_11ea_8136_c4d987659bdarow4_col2\" class=\"data row4 col2\" >$34.80</td>\n",
       "            </tr>\n",
       "    </tbody></table>"
      ],
      "text/plain": [
       "<pandas.io.formats.style.Styler at 0x2687bae8a20>"
      ]
     },
     "execution_count": 68,
     "metadata": {},
     "output_type": "execute_result"
    }
   ],
   "source": [
    "popular_formatted.style.format({\"Item Price\":\"${:,.2f}\",\n",
    "                                \"Total Purchase Value\":\"${:,.2f}\"})"
   ]
  },
  {
   "cell_type": "code",
   "execution_count": null,
   "metadata": {},
   "outputs": [],
   "source": []
  },
  {
   "cell_type": "code",
   "execution_count": null,
   "metadata": {},
   "outputs": [],
   "source": []
  }
 ],
 "metadata": {
  "kernelspec": {
   "display_name": "Python 3",
   "language": "python",
   "name": "python3"
  },
  "language_info": {
   "codemirror_mode": {
    "name": "ipython",
    "version": 3
   },
   "file_extension": ".py",
   "mimetype": "text/x-python",
   "name": "python",
   "nbconvert_exporter": "python",
   "pygments_lexer": "ipython3",
   "version": "3.6.9"
  }
 },
 "nbformat": 4,
 "nbformat_minor": 2
}
